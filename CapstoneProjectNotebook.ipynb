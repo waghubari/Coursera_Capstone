{
    "nbformat_minor": 1, 
    "cells": [
        {
            "source": "# IBM Data Science Professional Specialization - Coursera\n\nThis notebook is for the capstone project for the 9-courses specialization in Data Science of IBM. Platform Coursera.\n[Data Science Specialization](https://www.coursera.org/specializations/ibm-data-science-professional-certificate)\n\n### Toan Thien Le\nEmail: toan.cse2818@gmail.com  \nLinkedIn: [toanle-91](https://www.linkedin.com/in/toanle-91/)  \n\n#### CHANGE LOG:  \n- October 28th, 2018: Initialize notebook", 
            "cell_type": "markdown", 
            "metadata": {
                "collapsed": true
            }
        }, 
        {
            "execution_count": 1, 
            "cell_type": "code", 
            "metadata": {}, 
            "outputs": [
                {
                    "output_type": "stream", 
                    "name": "stdout", 
                    "text": "Waiting for a Spark session to start...\nSpark Initialization Done! ApplicationId = app-20181028222121-0000\n"
                }
            ], 
            "source": "import pandas as pd\nimport numpy as np"
        }, 
        {
            "execution_count": 2, 
            "cell_type": "code", 
            "metadata": {}, 
            "outputs": [
                {
                    "output_type": "stream", 
                    "name": "stdout", 
                    "text": "Hello Capstone Project Course!\n"
                }
            ], 
            "source": "print('Hello Capstone Project Course!')"
        }, 
        {
            "execution_count": null, 
            "cell_type": "code", 
            "metadata": {}, 
            "outputs": [], 
            "source": ""
        }
    ], 
    "metadata": {
        "kernelspec": {
            "display_name": "Python 3.5 with Spark", 
            "name": "python3", 
            "language": "python3"
        }, 
        "language_info": {
            "mimetype": "text/x-python", 
            "nbconvert_exporter": "python", 
            "version": "3.5.4", 
            "name": "python", 
            "file_extension": ".py", 
            "pygments_lexer": "ipython3", 
            "codemirror_mode": {
                "version": 3, 
                "name": "ipython"
            }
        }
    }, 
    "nbformat": 4
}